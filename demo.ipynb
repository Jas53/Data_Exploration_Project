{
 "cells": [
  {
   "cell_type": "markdown",
   "id": "929f5707",
   "metadata": {},
   "source": [
    "# DEMO\n",
    "\n",
    "In this notebook the previously build model will be demonstared by using the test data"
   ]
  },
  {
   "cell_type": "code",
   "execution_count": 12,
   "id": "1989247b",
   "metadata": {},
   "outputs": [],
   "source": [
    "import pandas as pd\n",
    "import numpy as np\n",
    "import matplotlib.pyplot as plt\n",
    "\n",
    "import mlflow\n",
    "import sklearn\n",
    "from sklearn.model_selection import train_test_split\n",
    "from sklearn.metrics import mean_squared_error, mean_absolute_error"
   ]
  },
  {
   "cell_type": "code",
   "execution_count": 10,
   "id": "9a1ecd1c",
   "metadata": {},
   "outputs": [],
   "source": [
    "def calc_metrics(actual_data: pd.Series, prediction_data: np.ndarray):\n",
    "    \"\"\"\n",
    "    calculate the different metrics (mean squared error, root mean squared error, mean absolute error \n",
    "        and mean absolute percentage error) to evaluate the model accuracy.\n",
    "    \n",
    "    Params:\n",
    "        actual_data (Series): the actual imported data\n",
    "        prediction_data (ndarray): the from the model predicted data\n",
    "    \n",
    "    Returns:\n",
    "        mse (Float): the calculated mean squared error value\n",
    "        rmse (Float): the calculated root mean squared error value\n",
    "        mae (Float): the claclulated mean absolute error value\n",
    "        mape (FLoat): the calculated mean absolute percentage error value\n",
    "    \"\"\"\n",
    "    mse = mean_squared_error(actual_data, prediction_data)\n",
    "    rmse = mean_squared_error(actual_data, prediction_data, squared = False)\n",
    "    mae = mean_absolute_error(actual_data, prediction_data)\n",
    "    mape = np.mean(np.abs((actual_data - prediction_data) / actual_data)) * 100\n",
    "    \n",
    "    print('########## METRICS ##########')\n",
    "    print('MSE:\\t%s\\nRMSE:\\t%s\\nMAE:\\t%s\\nMAPE:\\t%s' % (mse, rmse, mae, mape))\n",
    "    \n",
    "    return mse, rmse, mae, mape"
   ]
  },
  {
   "cell_type": "code",
   "execution_count": 3,
   "id": "1acbcb91",
   "metadata": {},
   "outputs": [
    {
     "data": {
      "text/html": [
       "<div>\n",
       "<style scoped>\n",
       "    .dataframe tbody tr th:only-of-type {\n",
       "        vertical-align: middle;\n",
       "    }\n",
       "\n",
       "    .dataframe tbody tr th {\n",
       "        vertical-align: top;\n",
       "    }\n",
       "\n",
       "    .dataframe thead th {\n",
       "        text-align: right;\n",
       "    }\n",
       "</style>\n",
       "<table border=\"1\" class=\"dataframe\">\n",
       "  <thead>\n",
       "    <tr style=\"text-align: right;\">\n",
       "      <th></th>\n",
       "      <th>Overall rank</th>\n",
       "      <th>Score</th>\n",
       "      <th>GDP per capita</th>\n",
       "      <th>Social support</th>\n",
       "      <th>Healthy life expectancy</th>\n",
       "      <th>Freedom to make life choices</th>\n",
       "      <th>Generosity</th>\n",
       "      <th>Perceptions of corruption</th>\n",
       "    </tr>\n",
       "    <tr>\n",
       "      <th>Country or region</th>\n",
       "      <th></th>\n",
       "      <th></th>\n",
       "      <th></th>\n",
       "      <th></th>\n",
       "      <th></th>\n",
       "      <th></th>\n",
       "      <th></th>\n",
       "      <th></th>\n",
       "    </tr>\n",
       "  </thead>\n",
       "  <tbody>\n",
       "    <tr>\n",
       "      <th>Finland</th>\n",
       "      <td>1</td>\n",
       "      <td>7.769</td>\n",
       "      <td>1.340</td>\n",
       "      <td>1.587</td>\n",
       "      <td>0.986</td>\n",
       "      <td>0.596</td>\n",
       "      <td>0.153</td>\n",
       "      <td>0.393</td>\n",
       "    </tr>\n",
       "    <tr>\n",
       "      <th>Denmark</th>\n",
       "      <td>2</td>\n",
       "      <td>7.600</td>\n",
       "      <td>1.383</td>\n",
       "      <td>1.573</td>\n",
       "      <td>0.996</td>\n",
       "      <td>0.592</td>\n",
       "      <td>0.252</td>\n",
       "      <td>0.410</td>\n",
       "    </tr>\n",
       "    <tr>\n",
       "      <th>Norway</th>\n",
       "      <td>3</td>\n",
       "      <td>7.554</td>\n",
       "      <td>1.488</td>\n",
       "      <td>1.582</td>\n",
       "      <td>1.028</td>\n",
       "      <td>0.603</td>\n",
       "      <td>0.271</td>\n",
       "      <td>0.341</td>\n",
       "    </tr>\n",
       "    <tr>\n",
       "      <th>Iceland</th>\n",
       "      <td>4</td>\n",
       "      <td>7.494</td>\n",
       "      <td>1.380</td>\n",
       "      <td>1.624</td>\n",
       "      <td>1.026</td>\n",
       "      <td>0.591</td>\n",
       "      <td>0.354</td>\n",
       "      <td>0.118</td>\n",
       "    </tr>\n",
       "    <tr>\n",
       "      <th>Netherlands</th>\n",
       "      <td>5</td>\n",
       "      <td>7.488</td>\n",
       "      <td>1.396</td>\n",
       "      <td>1.522</td>\n",
       "      <td>0.999</td>\n",
       "      <td>0.557</td>\n",
       "      <td>0.322</td>\n",
       "      <td>0.298</td>\n",
       "    </tr>\n",
       "  </tbody>\n",
       "</table>\n",
       "</div>"
      ],
      "text/plain": [
       "                   Overall rank  Score  GDP per capita  Social support  \\\n",
       "Country or region                                                        \n",
       "Finland                       1  7.769           1.340           1.587   \n",
       "Denmark                       2  7.600           1.383           1.573   \n",
       "Norway                        3  7.554           1.488           1.582   \n",
       "Iceland                       4  7.494           1.380           1.624   \n",
       "Netherlands                   5  7.488           1.396           1.522   \n",
       "\n",
       "                   Healthy life expectancy  Freedom to make life choices  \\\n",
       "Country or region                                                          \n",
       "Finland                              0.986                         0.596   \n",
       "Denmark                              0.996                         0.592   \n",
       "Norway                               1.028                         0.603   \n",
       "Iceland                              1.026                         0.591   \n",
       "Netherlands                          0.999                         0.557   \n",
       "\n",
       "                   Generosity  Perceptions of corruption  \n",
       "Country or region                                         \n",
       "Finland                 0.153                      0.393  \n",
       "Denmark                 0.252                      0.410  \n",
       "Norway                  0.271                      0.341  \n",
       "Iceland                 0.354                      0.118  \n",
       "Netherlands             0.322                      0.298  "
      ]
     },
     "execution_count": 3,
     "metadata": {},
     "output_type": "execute_result"
    }
   ],
   "source": [
    "# get data\n",
    "df = pd.read_csv('./data/WorldHappinessReport/2019.csv')\n",
    "# set new index for DataFrame\n",
    "df.set_index('Country or region', inplace = True)\n",
    "df.head()"
   ]
  },
  {
   "cell_type": "code",
   "execution_count": 4,
   "id": "1203ecdc",
   "metadata": {},
   "outputs": [],
   "source": [
    "# define target feature and create feature list\n",
    "target_feature = 'Score'\n",
    "features = df.columns.to_list()\n",
    "features = [feature for feature in features if feature not in target_feature]"
   ]
  },
  {
   "cell_type": "code",
   "execution_count": 5,
   "id": "9b6a2a4b",
   "metadata": {},
   "outputs": [],
   "source": [
    "# get testing data\n",
    "# Split all data in training and testing data (Size 90 / 10)\n",
    "X_train, X_test, y_train, y_test = train_test_split(df[features], df[target_feature], test_size = 0.1, random_state = 1)"
   ]
  },
  {
   "cell_type": "code",
   "execution_count": 8,
   "id": "49a4ecbc",
   "metadata": {},
   "outputs": [],
   "source": [
    "# import model from other notebook\n",
    "best_model = 'runs:/52896f1ea0d5442984343ea2a16f15bd/model'\n",
    "\n",
    "# Load model as a PyFuncModel\n",
    "model = mlflow.pyfunc.load_model(best_model)\n",
    "\n",
    "# Predict on a Pandas DataFrame\n",
    "pred = model.predict(X_test)"
   ]
  },
  {
   "cell_type": "code",
   "execution_count": 9,
   "id": "276c03f4",
   "metadata": {},
   "outputs": [
    {
     "data": {
      "text/plain": [
       "array([4.52480257, 5.4515138 , 5.98106308, 6.42235414, 6.33409593,\n",
       "       6.22377316, 6.79745154, 4.701319  , 5.93693397, 3.88493053,\n",
       "       3.79667232, 5.38532014, 5.0764164 , 5.12054551, 5.14261006,\n",
       "       6.99603252])"
      ]
     },
     "execution_count": 9,
     "metadata": {},
     "output_type": "execute_result"
    }
   ],
   "source": [
    "pred"
   ]
  },
  {
   "cell_type": "code",
   "execution_count": 13,
   "id": "d3528e1b",
   "metadata": {},
   "outputs": [
    {
     "name": "stdout",
     "output_type": "stream",
     "text": [
      "########## METRICS ##########\n",
      "MSE:\t0.03830085990963802\n",
      "RMSE:\t0.1957060548619741\n",
      "MAE:\t0.13137445717715995\n",
      "MAPE:\t2.6255197134238664\n"
     ]
    },
    {
     "data": {
      "text/plain": [
       "(0.03830085990963802,\n",
       " 0.1957060548619741,\n",
       " 0.13137445717715995,\n",
       " 2.6255197134238664)"
      ]
     },
     "execution_count": 13,
     "metadata": {},
     "output_type": "execute_result"
    }
   ],
   "source": [
    "calc_metrics(y_test, pred)"
   ]
  },
  {
   "cell_type": "code",
   "execution_count": null,
   "id": "3ba9dcf0",
   "metadata": {},
   "outputs": [],
   "source": []
  }
 ],
 "metadata": {
  "kernelspec": {
   "display_name": "Python 3 (ipykernel)",
   "language": "python",
   "name": "python3"
  },
  "language_info": {
   "codemirror_mode": {
    "name": "ipython",
    "version": 3
   },
   "file_extension": ".py",
   "mimetype": "text/x-python",
   "name": "python",
   "nbconvert_exporter": "python",
   "pygments_lexer": "ipython3",
   "version": "3.10.0"
  }
 },
 "nbformat": 4,
 "nbformat_minor": 5
}
